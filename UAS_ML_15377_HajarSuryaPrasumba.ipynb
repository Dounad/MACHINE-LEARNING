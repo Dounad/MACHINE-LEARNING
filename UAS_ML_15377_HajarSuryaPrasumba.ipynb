{
 "cells": [
  {
   "cell_type": "markdown",
   "id": "e72d46a0",
   "metadata": {},
   "source": [
    "\n",
    "# LAPORAN UAS PEMBELAJARAN MESIN TENTANG WEB REKOMENDASI FILM  \n",
    "**Nama:** Hajar Surya Prasumba  \n",
    "**NIM:** A11.2023.15377  \n"
   ]
  },
  {
   "cell_type": "markdown",
   "id": "2f11df15",
   "metadata": {},
   "source": [
    "\n",
    "## Latar Belakang\n",
    "\n",
    "Di era digital saat ini, banyak pengguna yang mengalami kesulitan dalam memilih film yang ingin ditonton. Oleh karena itu, sistem rekomendasi sangat penting untuk membantu pengguna menemukan film yang relevan dengan selera mereka.\n",
    "\n",
    "## Tujuan\n",
    "\n",
    "Membangun sistem rekomendasi film berbasis web yang mampu memberikan daftar film yang mirip dengan film yang dipilih pengguna. Model menggunakan metode Content-Based Filtering.\n"
   ]
  },
  {
   "cell_type": "markdown",
   "id": "0b110ebd",
   "metadata": {},
   "source": [
    "\n",
    "## Dataset dan Preprocessing\n",
    "\n",
    "Dataset digunakan dari TMDB (The Movie Database) dan diproses untuk menyimpan:\n",
    "\n",
    "- Judul film (`title`)\n",
    "- ID film (`movie_id`)\n",
    "- Metadata/fitur teks (seperti genre, deskripsi, dll) yang diubah menjadi vektor menggunakan TF-IDF atau CountVectorizer.\n",
    "- Hasil similarity antar film disimpan dalam file pickle.\n",
    "\n",
    "```python\n",
    "import pickle\n",
    "\n",
    "# Load data hasil preprocessing\n",
    "movies = pickle.load(open('artifacts/movie_list.pkl', 'rb'))\n",
    "similarity = pickle.load(open('artifacts/similarity.pkl', 'rb'))\n",
    "\n",
    "# Menampilkan 5 data awal\n",
    "movies.head()\n",
    "```\n"
   ]
  },
  {
   "cell_type": "markdown",
   "id": "4b793192",
   "metadata": {},
   "source": [
    "\n",
    "## Visualisasi Sederhana Dataset\n",
    "\n",
    "Distribusi panjang judul film, jumlah film, dan pengecekan data unik.\n"
   ]
  },
  {
   "cell_type": "code",
   "execution_count": null,
   "id": "e8333a13",
   "metadata": {},
   "outputs": [],
   "source": [
    "\n",
    "import pandas as pd\n",
    "import matplotlib.pyplot as plt\n",
    "\n",
    "# Dataset\n",
    "df = movies.copy()\n",
    "df['length'] = df['title'].apply(len)\n",
    "\n",
    "plt.figure(figsize=(10,4))\n",
    "df['length'].hist(bins=30)\n",
    "plt.title('Distribusi Panjang Judul Film')\n",
    "plt.xlabel('Jumlah Karakter')\n",
    "plt.ylabel('Jumlah Film')\n",
    "plt.show()\n"
   ]
  },
  {
   "cell_type": "markdown",
   "id": "4769e4a1",
   "metadata": {},
   "source": [
    "\n",
    "## Sistem Rekomendasi: Content-Based Filtering\n",
    "\n",
    "Menggunakan cosine similarity antar vektor fitur dari film untuk merekomendasikan film yang mirip dengan yang dipilih pengguna.\n"
   ]
  },
  {
   "cell_type": "code",
   "execution_count": null,
   "id": "b9b8573a",
   "metadata": {},
   "outputs": [],
   "source": [
    "\n",
    "def recommend(movie):\n",
    "    index = movies[movies['title'] == movie].index[0]\n",
    "    distances = sorted(list(enumerate(similarity[index])), reverse=True, key=lambda x: x[1])\n",
    "    recommended_movies = []\n",
    "    for i in distances[1:6]:\n",
    "        recommended_movies.append(movies.iloc[i[0]].title)\n",
    "    return recommended_movies\n",
    "\n",
    "recommend(\"Avatar\")\n"
   ]
  },
  {
   "cell_type": "markdown",
   "id": "c7bce07a",
   "metadata": {},
   "source": [
    "\n",
    "## Implementasi Web dengan Streamlit\n",
    "\n",
    "Menggunakan `streamlit` untuk membangun antarmuka pengguna interaktif.\n"
   ]
  },
  {
   "cell_type": "code",
   "execution_count": null,
   "id": "3b244573",
   "metadata": {},
   "outputs": [],
   "source": [
    "\n",
    "import streamlit as st\n",
    "import requests\n",
    "\n",
    "def fetch_poster(movie_id):\n",
    "    url = f\"https://api.themoviedb.org/3/movie/{movie_id}?api_key=8265bd1679663a7ea12ac168da84d2e8&language=en-US\"\n",
    "    data = requests.get(url).json()\n",
    "    return \"https://image.tmdb.org/t/p/w500/\" + data['poster_path']\n",
    "\n",
    "st.header('Website Rekomendasi FILM')\n",
    "movie_list = movies['title'].values\n",
    "selected_movie = st.selectbox(\"Silahkan pilih film\", movie_list)\n",
    "\n",
    "if st.button('Tampilkan Rekomendasi'):\n",
    "    recommended_movie_names = recommend(selected_movie)\n",
    "    for name in recommended_movie_names:\n",
    "        st.write(name)\n"
   ]
  },
  {
   "cell_type": "markdown",
   "id": "33e41504",
   "metadata": {},
   "source": [
    "\n",
    "## Kesimpulan dan Pengembangan\n",
    "\n",
    "- Sistem ini berhasil menampilkan rekomendasi film berdasarkan judul input.  \n",
    "- Tampilan web sederhana dan mudah digunakan dengan Streamlit.  \n",
    "- Dapat dikembangkan lebih lanjut dengan **collaborative filtering** atau integrasi login pengguna untuk rekomendasi personal.\n",
    "\n",
    "---\n",
    "🧠 **Terima kasih!**\n"
   ]
  },
  {
   "cell_type": "markdown",
   "id": "64764aea",
   "metadata": {},
   "source": [
    "\n",
    "## Evaluasi Sistem\n",
    "\n",
    "Karena ini adalah model content-based, tidak ada akurasi numerik seperti dalam supervised learning. Evaluasi dilakukan secara **kualitatif** dengan menilai relevansi hasil rekomendasi.\n",
    "\n",
    "Contoh:\n",
    "- Input: `Avatar`  \n",
    "- Output: Aliens, Predator, Titan A.E, dll\n",
    "  ![Screenshot 2025-07-05 223927.png](attachment:8b42a80a-c988-4b3e-8aa5-894d37930ba3.png)\n",
    "\n",
    "Relevansi dapat diterima karena film memiliki kemiripan tema atau genre.\n"
   ]
  }
 ],
 "metadata": {
  "kernelspec": {
   "display_name": "Python 3 (ipykernel)",
   "language": "python",
   "name": "python3"
  },
  "language_info": {
   "codemirror_mode": {
    "name": "ipython",
    "version": 3
   },
   "file_extension": ".py",
   "mimetype": "text/x-python",
   "name": "python",
   "nbconvert_exporter": "python",
   "pygments_lexer": "ipython3",
   "version": "3.13.5"
  }
 },
 "nbformat": 4,
 "nbformat_minor": 5
}
